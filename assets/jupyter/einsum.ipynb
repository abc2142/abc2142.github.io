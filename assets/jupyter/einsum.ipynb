{
  "cells": [
    {
      "cell_type": "code",
      "execution_count": 2,
      "metadata": {
        "id": "uh0LdlEhUY3q"
      },
      "outputs": [],
      "source": [
        "import torch"
      ]
    },
    {
      "cell_type": "code",
      "execution_count": 3,
      "metadata": {
        "colab": {
          "base_uri": "https://localhost:8080/"
        },
        "id": "5-XmkYWMUY3w",
        "outputId": "87802400-fb92-4f7a-bbe8-59b12bce076d"
      },
      "outputs": [
        {
          "name": "stdout",
          "output_type": "stream",
          "text": [
            "X= tensor([[-0.7352, -1.1507,  0.9218],\n",
            "        [-0.2326, -0.7964, -0.2639],\n",
            "        [ 0.2233, -1.5597,  0.9211],\n",
            "        [-0.9694,  0.9902, -0.2577]]) \n",
            "Y= tensor([[ 0.1107,  1.2348],\n",
            "        [ 0.7950,  1.4256],\n",
            "        [ 1.3328, -0.2210]])\n"
          ]
        }
      ],
      "source": [
        "X = torch.randn(4,3)\n",
        "Y = torch.randn(3,2)\n",
        "print(\"X=\", X, \"\\nY=\",Y)"
      ]
    },
    {
      "cell_type": "code",
      "execution_count": 4,
      "metadata": {
        "colab": {
          "base_uri": "https://localhost:8080/"
        },
        "id": "aQB0sjMlUY3x",
        "outputId": "f46078e8-b3dc-4546-a645-4b6377aeed2d"
      },
      "outputs": [
        {
          "name": "stdout",
          "output_type": "stream",
          "text": [
            "Z= tensor([[ 0.2323, -2.7520],\n",
            "        [-1.0106, -1.3642],\n",
            "        [ 0.0124, -2.1514],\n",
            "        [ 0.3365,  0.2717]])\n"
          ]
        }
      ],
      "source": [
        "Z=torch.einsum('ij, jk -> ik', X, Y)\n",
        "print(\"Z=\", Z)"
      ]
    },
    {
      "cell_type": "code",
      "execution_count": null,
      "metadata": {
        "colab": {
          "base_uri": "https://localhost:8080/"
        },
        "id": "yn2cl07P98ng",
        "outputId": "b36f6587-f68a-4d28-e58d-57c01256e490"
      },
      "outputs": [
        {
          "data": {
            "text/plain": [
              "torch.Size([16, 2, 2])"
            ]
          },
          "execution_count": 5,
          "metadata": {},
          "output_type": "execute_result"
        }
      ],
      "source": [
        "# Gram matrix computation\n",
        "# G=X'X\n",
        "batch_size=16\n",
        "X = torch.randn(batch_size, 4, 2) \n",
        "G = torch.einsum('bij, bjk -> bik', X.permute([0,2,1]), X)\n",
        "G.shape"
      ]
    }
  ],
  "metadata": {
    "colab": {
      "provenance": []
    },
    "kernelspec": {
      "display_name": "Python 3",
      "language": "python",
      "name": "python3"
    },
    "language_info": {
      "codemirror_mode": {
        "name": "ipython",
        "version": 3
      },
      "file_extension": ".py",
      "mimetype": "text/x-python",
      "name": "python",
      "nbconvert_exporter": "python",
      "pygments_lexer": "ipython3",
      "version": "3.6.2"
    }
  },
  "nbformat": 4,
  "nbformat_minor": 0
}
